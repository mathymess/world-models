{
 "cells": [
  {
   "cell_type": "markdown",
   "id": "419f3680-5eb7-4ea8-bd13-ded70d4a0c63",
   "metadata": {},
   "source": [
    "## Explore the Wordnet dataset using `nltk` API\n",
    "\n",
    "- https://www.nltk.org/howto/wordnet.html\n",
    "- http://wordnetweb.princeton.edu/perl/webwn"
   ]
  },
  {
   "cell_type": "code",
   "execution_count": 1,
   "id": "d7cd8075-9738-4f39-a034-98261472225a",
   "metadata": {},
   "outputs": [],
   "source": [
    "import nltk\n",
    "from nltk.corpus import wordnet as wn\n",
    "Synset = nltk.corpus.reader.wordnet.Synset"
   ]
  },
  {
   "cell_type": "code",
   "execution_count": 2,
   "id": "b5462893-1b02-4835-be63-fb4b3a11ba54",
   "metadata": {},
   "outputs": [
    {
     "name": "stderr",
     "output_type": "stream",
     "text": [
      "[nltk_data] Downloading package wordnet to /home/nick/nltk_data...\n",
      "[nltk_data]   Package wordnet is already up-to-date!\n"
     ]
    },
    {
     "data": {
      "text/plain": [
       "True"
      ]
     },
     "execution_count": 2,
     "metadata": {},
     "output_type": "execute_result"
    }
   ],
   "source": [
    "nltk.download(\"wordnet\")"
   ]
  },
  {
   "cell_type": "code",
   "execution_count": 3,
   "id": "172f1b2e-c1f0-42fd-af76-1a2721df3bb6",
   "metadata": {},
   "outputs": [],
   "source": [
    "assert isinstance(wn.NOUN, str) and wn.NOUN == \"n\""
   ]
  },
  {
   "cell_type": "code",
   "execution_count": 4,
   "id": "a0f029d9-72df-45e3-919a-d175ad74d8ef",
   "metadata": {},
   "outputs": [
    {
     "name": "stdout",
     "output_type": "stream",
     "text": [
      "82000 Synset('kilohertz.n.01')\n",
      "82001 Synset('kilometers_per_hour.n.01')\n",
      "82002 Synset('megahertz.n.01')\n",
      "82003 Synset('terahertz.n.01')\n",
      "82004 Synset('metabolic_rate.n.01')\n",
      "82005 Synset('miles_per_hour.n.01')\n",
      "82006 Synset('pace.n.01')\n",
      "82007 Synset('pulse.n.03')\n",
      "82008 Synset('femoral_pulse.n.01')\n",
      "82009 Synset('radial_pulse.n.01')\n",
      "82010 Synset('rate_of_return.n.01')\n",
      "82011 Synset('return_on_invested_capital.n.01')\n",
      "82012 Synset('respiratory_rate.n.01')\n",
      "82013 Synset('revolutions_per_minute.n.01')\n",
      "82014 Synset('sampling_rate.n.01')\n",
      "82015 Synset('nyquist_rate.n.01')\n",
      "82016 Synset('solar_constant.n.01')\n",
      "82017 Synset('spacing.n.01')\n",
      "82018 Synset('speed.n.01')\n",
      "82019 Synset('tempo.n.02')\n",
      "82020 Synset('quick_time.n.01')\n",
      "82021 Synset('double_time.n.01')\n",
      "82022 Synset('airspeed.n.01')\n",
      "82023 Synset('escape_velocity.n.01')\n",
      "82024 Synset('groundspeed.n.01')\n",
      "82025 Synset('hypervelocity.n.01')\n",
      "82026 Synset('muzzle_velocity.n.01')\n",
      "82027 Synset('peculiar_velocity.n.01')\n",
      "82028 Synset('radial_velocity.n.01')\n",
      "82029 Synset('speed_of_light.n.01')\n",
      "82030 Synset('steerageway.n.01')\n",
      "82031 Synset('terminal_velocity.n.01')\n",
      "82032 Synset('miles_per_hour.n.02')\n",
      "82033 Synset('attendance.n.02')\n",
      "82034 Synset('count_per_minute.n.01')\n",
      "82035 Synset('sampling_frequency.n.01')\n",
      "82036 Synset('nyquist_frequency.n.01')\n",
      "82037 Synset('infant_deathrate.n.01')\n",
      "82038 Synset('neonatal_mortality.n.01')\n",
      "82039 Synset('words_per_minute.n.01')\n",
      "82040 Synset('beats_per_minute.n.01')\n",
      "82041 Synset('rate.n.01')\n",
      "82042 Synset('channel_capacity.n.01')\n",
      "82043 Synset('neutron_flux.n.01')\n",
      "82044 Synset('radiant_flux.n.01')\n",
      "82045 Synset('luminous_flux.n.01')\n",
      "82046 Synset('incubation.n.02')\n",
      "82047 Synset('cycle.n.01')\n",
      "82048 Synset('menstrual_cycle.n.01')\n",
      "82049 Synset('fertile_period.n.01')\n",
      "82050 Synset('menstrual_phase.n.01')\n",
      "82051 Synset('musth.n.01')\n",
      "82052 Synset('secretory_phase.n.01')\n",
      "82053 Synset('lead_time.n.01')\n",
      "82054 Synset('period.n.02')\n",
      "82055 Synset('orbit_period.n.01')\n",
      "82056 Synset('phase.n.03')\n",
      "82057 Synset('phase.n.01')\n",
      "82058 Synset('generation.n.04')\n",
      "82059 Synset('multistage.n.01')\n",
      "82060 Synset('apogee.n.01')\n",
      "82061 Synset('seedtime.n.01')\n",
      "82062 Synset('tenure.n.01')\n",
      "82063 Synset('episcopate.n.01')\n",
      "82064 Synset('shift.n.03')\n",
      "82065 Synset('go.n.01')\n",
      "82066 Synset('trick.n.02')\n",
      "82067 Synset('watch.n.02')\n",
      "82068 Synset('watch.n.04')\n",
      "82069 Synset('dogwatch.n.01')\n",
      "82070 Synset('day_shift.n.01')\n",
      "82071 Synset('evening_shift.n.01')\n",
      "82072 Synset('night_shift.n.01')\n",
      "82073 Synset('split_shift.n.01')\n",
      "82074 Synset('peacetime.n.01')\n",
      "82075 Synset('wartime.n.01')\n",
      "82076 Synset('graveyard_watch.n.01')\n",
      "82077 Synset('enlistment.n.01')\n",
      "82078 Synset('honeymoon.n.02')\n",
      "82079 Synset('indiction.n.01')\n",
      "82080 Synset('float.n.01')\n",
      "82081 Synset('depression.n.05')\n",
      "82082 Synset('prohibition.n.03')\n",
      "82083 Synset('incubation_period.n.01')\n",
      "82084 Synset('rainy_day.n.01')\n",
      "82085 Synset('novitiate.n.01')\n",
      "82086 Synset('flower.n.03')\n",
      "82087 Synset('golden_age.n.01')\n",
      "82088 Synset('rule.n.06')\n",
      "82089 Synset('regency.n.02')\n",
      "82090 Synset('running_time.n.01')\n",
      "82091 Synset('show_time.n.01')\n",
      "82092 Synset('safe_period.n.01')\n",
      "82093 Synset('octave.n.01')\n",
      "82094 Synset('then.n.01')\n",
      "82095 Synset('shiva.n.01')\n",
      "82096 Synset('epoch.n.02')\n",
      "82097 Synset('clotting_time.n.01')\n",
      "82098 Synset('rotational_latency.n.01')\n",
      "82099 Synset('probation.n.02')\n",
      "82100 Synset('probation.n.01')\n",
      "82101 Synset('processing_time.n.01')\n",
      "82102 Synset('air_alert.n.01')\n",
      "82103 Synset('command_processing_overhead_time.n.01')\n",
      "82104 Synset('great_schism.n.01')\n",
      "82105 Synset('question_time.n.01')\n",
      "82106 Synset('real_time.n.02')\n",
      "82107 Synset('real_time.n.01')\n",
      "82108 Synset('regency.n.01')\n",
      "82109 Synset('snap.n.02')\n",
      "82110 Synset('study_hall.n.01')\n",
      "82111 Synset('transfiguration.n.01')\n",
      "82112 Synset('usance.n.01')\n",
      "82113 Synset('window.n.05')\n",
      "82114 Synset('9/11.n.01')\n"
     ]
    }
   ],
   "source": [
    "for i, s in enumerate(wn.all_eng_synsets(wn.NOUN)):\n",
    "    if i < 82000:\n",
    "        continue\n",
    "    print(i, s)"
   ]
  },
  {
   "cell_type": "code",
   "execution_count": 5,
   "id": "508caa39-7420-42ab-97c0-03fe55fa5cb2",
   "metadata": {},
   "outputs": [
    {
     "name": "stdout",
     "output_type": "stream",
     "text": [
      "Synset('underground_railroad.n.01') secret aid to escaping slaves that was provided by abolitionists in the years before the American Civil War\n"
     ]
    }
   ],
   "source": [
    "s = wn.synset(\"underground_railroad.n.01\")\n",
    "print(s, s.definition())\n",
    "assert s.hypernyms() == []\n",
    "assert s.hyponyms() == []\n",
    "# A very specific thing, so no hyperonyms or hyponyms"
   ]
  },
  {
   "cell_type": "code",
   "execution_count": 6,
   "id": "c0fefc8f-8025-4ecf-9a35-1bc8f3ed401b",
   "metadata": {},
   "outputs": [
    {
     "name": "stdout",
     "output_type": "stream",
     "text": [
      "Synset('dog.n.01') a member of the genus Canis (probably descended from the common wolf) that has been domesticated by man since prehistoric times; occurs in many breeds\n",
      "hypernyms: [Synset('canine.n.02'), Synset('domestic_animal.n.01')]\n",
      "hyponyms: [Synset('basenji.n.01'), Synset('corgi.n.01'), Synset('cur.n.01'), Synset('dalmatian.n.02'), Synset('great_pyrenees.n.01'), Synset('griffon.n.02'), Synset('hunting_dog.n.01'), Synset('lapdog.n.01'), Synset('leonberg.n.01'), Synset('mexican_hairless.n.01'), Synset('newfoundland.n.01'), Synset('pooch.n.01'), Synset('poodle.n.01'), Synset('pug.n.01'), Synset('puppy.n.01'), Synset('spitz.n.01'), Synset('toy_dog.n.01'), Synset('working_dog.n.01')]\n"
     ]
    }
   ],
   "source": [
    "# Let's try something simpler\n",
    "s = wn.synsets(\"dog\")[0]\n",
    "print(s, s.definition())\n",
    "print(\"hypernyms:\", s.hypernyms())\n",
    "print(\"hyponyms:\", s.hyponyms())"
   ]
  },
  {
   "cell_type": "code",
   "execution_count": 7,
   "id": "f67f668a-fc55-4547-a1ba-f7b0c08486e7",
   "metadata": {},
   "outputs": [
    {
     "data": {
      "text/plain": [
       "[Synset('dog.n.01'),\n",
       " [Synset('canine.n.02'),\n",
       "  [Synset('carnivore.n.01'),\n",
       "   [Synset('placental.n.01'),\n",
       "    [Synset('mammal.n.01'),\n",
       "     [Synset('vertebrate.n.01'),\n",
       "      [Synset('chordate.n.01'),\n",
       "       [Synset('animal.n.01'),\n",
       "        [Synset('organism.n.01'),\n",
       "         [Synset('living_thing.n.01'),\n",
       "          [Synset('whole.n.02'),\n",
       "           [Synset('object.n.01'),\n",
       "            [Synset('physical_entity.n.01'),\n",
       "             [Synset('entity.n.01')]]]]]]]]]]]]],\n",
       " [Synset('domestic_animal.n.01'),\n",
       "  [Synset('animal.n.01'),\n",
       "   [Synset('organism.n.01'),\n",
       "    [Synset('living_thing.n.01'),\n",
       "     [Synset('whole.n.02'),\n",
       "      [Synset('object.n.01'),\n",
       "       [Synset('physical_entity.n.01'), [Synset('entity.n.01')]]]]]]]]]"
      ]
     },
     "execution_count": 7,
     "metadata": {},
     "output_type": "execute_result"
    }
   ],
   "source": [
    "wn.synset(\"dog.n.01\").tree(Synset.hypernyms)"
   ]
  },
  {
   "cell_type": "code",
   "execution_count": 8,
   "id": "b4ebaa06-2f4d-4b21-beca-b699fddd86b0",
   "metadata": {},
   "outputs": [],
   "source": [
    "# Check that (A is a hypernym for B) implies (B is a hyponym for A)\n",
    "def check_hyponyms(s: Synset):\n",
    "    for h in s.hyponyms():\n",
    "        assert s in h.hypernyms(), f\"{h} is a hyponyms for {s}, but {s} is not a hypernym for {h}\"\n",
    "\n",
    "check_hyponyms(wn.synset(\"dog.n.01\"))\n",
    "check_hyponyms(wn.synset(\"cat.n.01\"))\n",
    "\n",
    "for s in wn.all_eng_synsets(wn.NOUN):\n",
    "    check_hyponyms(s)\n",
    "# It holds for every synset in WordNet, hooray"
   ]
  },
  {
   "cell_type": "markdown",
   "id": "c32b8f52-4634-4b85-a04b-1a936dfd95d8",
   "metadata": {},
   "source": [
    "## Filtering and counting"
   ]
  },
  {
   "cell_type": "code",
   "execution_count": 12,
   "id": "43980bd1-0ed7-46ea-aea0-11841c436e2f",
   "metadata": {},
   "outputs": [
    {
     "name": "stdout",
     "output_type": "stream",
     "text": [
      "total 82115\n",
      "contains_underscore 27165\n",
      "has_hyponyms 16693\n",
      "has_hypernyms 74389\n",
      "has_high_lemfreq 3055\n"
     ]
    }
   ],
   "source": [
    "print(\"total\", filterlen(iterable=wn.all_eng_synsets(wn.NOUN)))\n",
    "print(\"contains_underscore\", filterlen(predicate=contains_underscore))\n",
    "print(\"has_hyponyms\", filterlen(predicate=has_hyponyms))\n",
    "print(\"has_hypernyms\", filterlen(predicate=has_hypernyms))\n",
    "print(\"has_high_lemfreq\", filterlen(predicate=has_high_lemfreq))"
   ]
  },
  {
   "cell_type": "code",
   "execution_count": 9,
   "id": "c878cc35-fb62-46cf-815f-74eeb29c3a9f",
   "metadata": {},
   "outputs": [],
   "source": [
    "def contains_underscore(s: Synset) -> bool:\n",
    "    return \"_\" in str(s)\n",
    "    \n",
    "def has_hypernyms(s: Synset) -> bool:\n",
    "    return len(s.hypernyms()) >= 1\n",
    "\n",
    "def has_hyponyms(s: Synset) -> bool:\n",
    "    return len(s.hyponyms()) >= 1\n",
    "\n",
    "def has_high_lemfreq(s: Synset, threshold: int = 5) -> bool:\n",
    "    return s.lemmas()[0].count() >= threshold\n",
    "\n",
    "def filterlen(predicate = lambda _: True, iterable = None):\n",
    "    if iterable is None:\n",
    "        iterable = wn.all_eng_synsets(wn.NOUN)\n",
    "    return len(list(filter(predicate, iterable)))"
   ]
  },
  {
   "cell_type": "code",
   "execution_count": null,
   "id": "f4e9d8c5-2d50-4702-b835-e3b886eeed77",
   "metadata": {},
   "outputs": [],
   "source": [
    "# Is there a single root noun, that is a hypernym for everything else?\n",
    "assert wn.synset(\"entity.n.01\").hypernyms() == []\n",
    "wn.synset(\"entity.n.01\").tree(Synset.hyponyms, depth=3)"
   ]
  },
  {
   "cell_type": "markdown",
   "id": "279a51fa-4d45-4e8c-bd2a-4c03878e23b1",
   "metadata": {},
   "source": [
    "## Creating a linear dataset of hypernyms of depth 1"
   ]
  },
  {
   "cell_type": "code",
   "execution_count": 15,
   "id": "c1c58b24-928b-4db7-bc2a-035c58486795",
   "metadata": {},
   "outputs": [],
   "source": [
    "hyper_hypo_pairs = []\n",
    "\n",
    "def to_str(s: Synset) -> str:\n",
    "    return str(s.lemmas()[0].name())\n",
    "\n",
    "for hyper in wn.all_eng_synsets(wn.NOUN):\n",
    "    for hypo in hyper.hyponyms():\n",
    "        pair = (to_str(hyper), to_str(hypo))\n",
    "        hyper_hypo_pairs.append(pair)\n"
   ]
  },
  {
   "cell_type": "code",
   "execution_count": 17,
   "id": "e79823f2-65d7-4b25-85c5-83412f02bfb8",
   "metadata": {},
   "outputs": [
    {
     "data": {
      "text/plain": [
       "('entity', 'abstraction')"
      ]
     },
     "execution_count": 17,
     "metadata": {},
     "output_type": "execute_result"
    }
   ],
   "source": [
    "len(hyper_hypo_pairs)\n",
    "hyper_hypo_pairs[0]"
   ]
  }
 ],
 "metadata": {
  "kernelspec": {
   "display_name": "Python 3 (ipykernel)",
   "language": "python",
   "name": "python3"
  },
  "language_info": {
   "codemirror_mode": {
    "name": "ipython",
    "version": 3
   },
   "file_extension": ".py",
   "mimetype": "text/x-python",
   "name": "python",
   "nbconvert_exporter": "python",
   "pygments_lexer": "ipython3",
   "version": "3.11.6"
  }
 },
 "nbformat": 4,
 "nbformat_minor": 5
}
