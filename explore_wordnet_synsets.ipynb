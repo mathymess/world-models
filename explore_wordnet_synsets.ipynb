{
 "cells": [
  {
   "cell_type": "markdown",
   "id": "419f3680-5eb7-4ea8-bd13-ded70d4a0c63",
   "metadata": {},
   "source": [
    "# Explore the Wordnet dataset using `nltk` API\n",
    "\n",
    "- https://www.nltk.org/howto/wordnet.html\n",
    "- http://wordnetweb.princeton.edu/perl/webwn"
   ]
  },
  {
   "cell_type": "code",
   "execution_count": 1,
   "id": "d7cd8075-9738-4f39-a034-98261472225a",
   "metadata": {},
   "outputs": [],
   "source": [
    "import random\n",
    "import nltk\n",
    "from nltk.corpus import wordnet as wn\n",
    "Synset = nltk.corpus.reader.wordnet.Synset"
   ]
  },
  {
   "cell_type": "code",
   "execution_count": 2,
   "id": "b5462893-1b02-4835-be63-fb4b3a11ba54",
   "metadata": {},
   "outputs": [
    {
     "name": "stderr",
     "output_type": "stream",
     "text": [
      "[nltk_data] Downloading package wordnet to /home/nick/nltk_data...\n",
      "[nltk_data]   Package wordnet is already up-to-date!\n"
     ]
    },
    {
     "data": {
      "text/plain": [
       "True"
      ]
     },
     "execution_count": 2,
     "metadata": {},
     "output_type": "execute_result"
    }
   ],
   "source": [
    "nltk.download(\"wordnet\")"
   ]
  },
  {
   "cell_type": "code",
   "execution_count": 3,
   "id": "172f1b2e-c1f0-42fd-af76-1a2721df3bb6",
   "metadata": {},
   "outputs": [],
   "source": [
    "assert isinstance(wn.NOUN, str) and wn.NOUN == \"n\""
   ]
  },
  {
   "cell_type": "code",
   "execution_count": 4,
   "id": "a0f029d9-72df-45e3-919a-d175ad74d8ef",
   "metadata": {},
   "outputs": [
    {
     "name": "stdout",
     "output_type": "stream",
     "text": [
      "82000 Synset('kilohertz.n.01')\n",
      "82001 Synset('kilometers_per_hour.n.01')\n",
      "82002 Synset('megahertz.n.01')\n",
      "82003 Synset('terahertz.n.01')\n",
      "82004 Synset('metabolic_rate.n.01')\n",
      "82005 Synset('miles_per_hour.n.01')\n",
      "82006 Synset('pace.n.01')\n",
      "82007 Synset('pulse.n.03')\n",
      "82008 Synset('femoral_pulse.n.01')\n",
      "82009 Synset('radial_pulse.n.01')\n",
      "82010 Synset('rate_of_return.n.01')\n",
      "82011 Synset('return_on_invested_capital.n.01')\n",
      "82012 Synset('respiratory_rate.n.01')\n",
      "82013 Synset('revolutions_per_minute.n.01')\n",
      "82014 Synset('sampling_rate.n.01')\n",
      "82015 Synset('nyquist_rate.n.01')\n",
      "82016 Synset('solar_constant.n.01')\n",
      "82017 Synset('spacing.n.01')\n",
      "82018 Synset('speed.n.01')\n",
      "82019 Synset('tempo.n.02')\n",
      "82020 Synset('quick_time.n.01')\n",
      "82021 Synset('double_time.n.01')\n",
      "82022 Synset('airspeed.n.01')\n",
      "82023 Synset('escape_velocity.n.01')\n",
      "82024 Synset('groundspeed.n.01')\n",
      "82025 Synset('hypervelocity.n.01')\n",
      "82026 Synset('muzzle_velocity.n.01')\n",
      "82027 Synset('peculiar_velocity.n.01')\n",
      "82028 Synset('radial_velocity.n.01')\n",
      "82029 Synset('speed_of_light.n.01')\n",
      "82030 Synset('steerageway.n.01')\n",
      "82031 Synset('terminal_velocity.n.01')\n",
      "82032 Synset('miles_per_hour.n.02')\n",
      "82033 Synset('attendance.n.02')\n",
      "82034 Synset('count_per_minute.n.01')\n",
      "82035 Synset('sampling_frequency.n.01')\n",
      "82036 Synset('nyquist_frequency.n.01')\n",
      "82037 Synset('infant_deathrate.n.01')\n",
      "82038 Synset('neonatal_mortality.n.01')\n",
      "82039 Synset('words_per_minute.n.01')\n",
      "82040 Synset('beats_per_minute.n.01')\n",
      "82041 Synset('rate.n.01')\n",
      "82042 Synset('channel_capacity.n.01')\n",
      "82043 Synset('neutron_flux.n.01')\n",
      "82044 Synset('radiant_flux.n.01')\n",
      "82045 Synset('luminous_flux.n.01')\n",
      "82046 Synset('incubation.n.02')\n",
      "82047 Synset('cycle.n.01')\n",
      "82048 Synset('menstrual_cycle.n.01')\n",
      "82049 Synset('fertile_period.n.01')\n",
      "82050 Synset('menstrual_phase.n.01')\n",
      "82051 Synset('musth.n.01')\n",
      "82052 Synset('secretory_phase.n.01')\n",
      "82053 Synset('lead_time.n.01')\n",
      "82054 Synset('period.n.02')\n",
      "82055 Synset('orbit_period.n.01')\n",
      "82056 Synset('phase.n.03')\n",
      "82057 Synset('phase.n.01')\n",
      "82058 Synset('generation.n.04')\n",
      "82059 Synset('multistage.n.01')\n",
      "82060 Synset('apogee.n.01')\n",
      "82061 Synset('seedtime.n.01')\n",
      "82062 Synset('tenure.n.01')\n",
      "82063 Synset('episcopate.n.01')\n",
      "82064 Synset('shift.n.03')\n",
      "82065 Synset('go.n.01')\n",
      "82066 Synset('trick.n.02')\n",
      "82067 Synset('watch.n.02')\n",
      "82068 Synset('watch.n.04')\n",
      "82069 Synset('dogwatch.n.01')\n",
      "82070 Synset('day_shift.n.01')\n",
      "82071 Synset('evening_shift.n.01')\n",
      "82072 Synset('night_shift.n.01')\n",
      "82073 Synset('split_shift.n.01')\n",
      "82074 Synset('peacetime.n.01')\n",
      "82075 Synset('wartime.n.01')\n",
      "82076 Synset('graveyard_watch.n.01')\n",
      "82077 Synset('enlistment.n.01')\n",
      "82078 Synset('honeymoon.n.02')\n",
      "82079 Synset('indiction.n.01')\n",
      "82080 Synset('float.n.01')\n",
      "82081 Synset('depression.n.05')\n",
      "82082 Synset('prohibition.n.03')\n",
      "82083 Synset('incubation_period.n.01')\n",
      "82084 Synset('rainy_day.n.01')\n",
      "82085 Synset('novitiate.n.01')\n",
      "82086 Synset('flower.n.03')\n",
      "82087 Synset('golden_age.n.01')\n",
      "82088 Synset('rule.n.06')\n",
      "82089 Synset('regency.n.02')\n",
      "82090 Synset('running_time.n.01')\n",
      "82091 Synset('show_time.n.01')\n",
      "82092 Synset('safe_period.n.01')\n",
      "82093 Synset('octave.n.01')\n",
      "82094 Synset('then.n.01')\n",
      "82095 Synset('shiva.n.01')\n",
      "82096 Synset('epoch.n.02')\n",
      "82097 Synset('clotting_time.n.01')\n",
      "82098 Synset('rotational_latency.n.01')\n",
      "82099 Synset('probation.n.02')\n",
      "82100 Synset('probation.n.01')\n",
      "82101 Synset('processing_time.n.01')\n",
      "82102 Synset('air_alert.n.01')\n",
      "82103 Synset('command_processing_overhead_time.n.01')\n",
      "82104 Synset('great_schism.n.01')\n",
      "82105 Synset('question_time.n.01')\n",
      "82106 Synset('real_time.n.02')\n",
      "82107 Synset('real_time.n.01')\n",
      "82108 Synset('regency.n.01')\n",
      "82109 Synset('snap.n.02')\n",
      "82110 Synset('study_hall.n.01')\n",
      "82111 Synset('transfiguration.n.01')\n",
      "82112 Synset('usance.n.01')\n",
      "82113 Synset('window.n.05')\n",
      "82114 Synset('9/11.n.01')\n"
     ]
    }
   ],
   "source": [
    "for i, s in enumerate(wn.all_eng_synsets(wn.NOUN)):\n",
    "    if i < 82000:\n",
    "        continue\n",
    "    print(i, s)"
   ]
  },
  {
   "cell_type": "code",
   "execution_count": 5,
   "id": "508caa39-7420-42ab-97c0-03fe55fa5cb2",
   "metadata": {},
   "outputs": [
    {
     "name": "stdout",
     "output_type": "stream",
     "text": [
      "Synset('underground_railroad.n.01') secret aid to escaping slaves that was provided by abolitionists in the years before the American Civil War\n"
     ]
    }
   ],
   "source": [
    "s = wn.synset(\"underground_railroad.n.01\")\n",
    "print(s, s.definition())\n",
    "assert s.hypernyms() == []\n",
    "assert s.hyponyms() == []\n",
    "# A very specific thing, so no hyperonyms or hyponyms"
   ]
  },
  {
   "cell_type": "code",
   "execution_count": 6,
   "id": "c0fefc8f-8025-4ecf-9a35-1bc8f3ed401b",
   "metadata": {},
   "outputs": [
    {
     "name": "stdout",
     "output_type": "stream",
     "text": [
      "Synset('dog.n.01') a member of the genus Canis (probably descended from the common wolf) that has been domesticated by man since prehistoric times; occurs in many breeds\n",
      "hypernyms: [Synset('canine.n.02'), Synset('domestic_animal.n.01')]\n",
      "hyponyms: [Synset('basenji.n.01'), Synset('corgi.n.01'), Synset('cur.n.01'), Synset('dalmatian.n.02'), Synset('great_pyrenees.n.01'), Synset('griffon.n.02'), Synset('hunting_dog.n.01'), Synset('lapdog.n.01'), Synset('leonberg.n.01'), Synset('mexican_hairless.n.01'), Synset('newfoundland.n.01'), Synset('pooch.n.01'), Synset('poodle.n.01'), Synset('pug.n.01'), Synset('puppy.n.01'), Synset('spitz.n.01'), Synset('toy_dog.n.01'), Synset('working_dog.n.01')]\n"
     ]
    }
   ],
   "source": [
    "# Let's try something simpler\n",
    "s = wn.synsets(\"dog\")[0]\n",
    "print(s, s.definition())\n",
    "print(\"hypernyms:\", s.hypernyms())\n",
    "print(\"hyponyms:\", s.hyponyms())"
   ]
  },
  {
   "cell_type": "code",
   "execution_count": 7,
   "id": "f67f668a-fc55-4547-a1ba-f7b0c08486e7",
   "metadata": {},
   "outputs": [
    {
     "data": {
      "text/plain": [
       "[Synset('dog.n.01'),\n",
       " [Synset('canine.n.02'),\n",
       "  [Synset('carnivore.n.01'),\n",
       "   [Synset('placental.n.01'),\n",
       "    [Synset('mammal.n.01'),\n",
       "     [Synset('vertebrate.n.01'),\n",
       "      [Synset('chordate.n.01'),\n",
       "       [Synset('animal.n.01'),\n",
       "        [Synset('organism.n.01'),\n",
       "         [Synset('living_thing.n.01'),\n",
       "          [Synset('whole.n.02'),\n",
       "           [Synset('object.n.01'),\n",
       "            [Synset('physical_entity.n.01'),\n",
       "             [Synset('entity.n.01')]]]]]]]]]]]]],\n",
       " [Synset('domestic_animal.n.01'),\n",
       "  [Synset('animal.n.01'),\n",
       "   [Synset('organism.n.01'),\n",
       "    [Synset('living_thing.n.01'),\n",
       "     [Synset('whole.n.02'),\n",
       "      [Synset('object.n.01'),\n",
       "       [Synset('physical_entity.n.01'), [Synset('entity.n.01')]]]]]]]]]"
      ]
     },
     "execution_count": 7,
     "metadata": {},
     "output_type": "execute_result"
    }
   ],
   "source": [
    "wn.synset(\"dog.n.01\").tree(Synset.hypernyms)"
   ]
  },
  {
   "cell_type": "code",
   "execution_count": 8,
   "id": "b4ebaa06-2f4d-4b21-beca-b699fddd86b0",
   "metadata": {},
   "outputs": [],
   "source": [
    "# Check that (A is a hypernym for B) implies (B is a hyponym for A)\n",
    "def check_hyponyms(s: Synset):\n",
    "    for h in s.hyponyms():\n",
    "        assert s in h.hypernyms(), f\"{h} is a hyponyms for {s}, but {s} is not a hypernym for {h}\"\n",
    "\n",
    "check_hyponyms(wn.synset(\"dog.n.01\"))\n",
    "check_hyponyms(wn.synset(\"cat.n.01\"))\n",
    "\n",
    "for s in wn.all_eng_synsets(wn.NOUN):\n",
    "    check_hyponyms(s)\n",
    "# It holds for every synset in WordNet, hooray"
   ]
  },
  {
   "cell_type": "markdown",
   "id": "c32b8f52-4634-4b85-a04b-1a936dfd95d8",
   "metadata": {},
   "source": [
    "## Filtering and counting"
   ]
  },
  {
   "cell_type": "code",
   "execution_count": 9,
   "id": "c878cc35-fb62-46cf-815f-74eeb29c3a9f",
   "metadata": {},
   "outputs": [],
   "source": [
    "def contains_underscore(s: Synset) -> bool:\n",
    "    return \"_\" in str(s)\n",
    "    \n",
    "def has_hypernyms(s: Synset) -> bool:\n",
    "    return len(s.hypernyms()) >= 1\n",
    "\n",
    "def has_hyponyms(s: Synset) -> bool:\n",
    "    return len(s.hyponyms()) >= 1\n",
    "\n",
    "def has_high_lemfreq(s: Synset, threshold: int = 5) -> bool:\n",
    "    return s.lemmas()[0].count() >= threshold\n",
    "\n",
    "def filterlen(predicate = lambda _: True, iterable = None):\n",
    "    if iterable is None:\n",
    "        iterable = wn.all_eng_synsets(wn.NOUN)\n",
    "    return len(list(filter(predicate, iterable)))"
   ]
  },
  {
   "cell_type": "code",
   "execution_count": 10,
   "id": "43980bd1-0ed7-46ea-aea0-11841c436e2f",
   "metadata": {},
   "outputs": [
    {
     "name": "stdout",
     "output_type": "stream",
     "text": [
      "total 82115\n",
      "contains_underscore 27165\n",
      "has_hyponyms 16693\n",
      "has_hypernyms 74389\n",
      "has_high_lemfreq 3055\n"
     ]
    }
   ],
   "source": [
    "print(\"total\", filterlen(iterable=wn.all_eng_synsets(wn.NOUN)))\n",
    "print(\"contains_underscore\", filterlen(predicate=contains_underscore))\n",
    "print(\"has_hyponyms\", filterlen(predicate=has_hyponyms))\n",
    "print(\"has_hypernyms\", filterlen(predicate=has_hypernyms))\n",
    "print(\"has_high_lemfreq\", filterlen(predicate=has_high_lemfreq))"
   ]
  },
  {
   "cell_type": "code",
   "execution_count": 11,
   "id": "f4e9d8c5-2d50-4702-b835-e3b886eeed77",
   "metadata": {},
   "outputs": [
    {
     "name": "stdout",
     "output_type": "stream",
     "text": [
      "[Synset('entity.n.01')]\n"
     ]
    },
    {
     "data": {
      "text/plain": [
       "[Synset('entity.n.01'),\n",
       " [Synset('abstraction.n.06'),\n",
       "  [Synset('attribute.n.02'),\n",
       "   [Synset('ballast.n.03')],\n",
       "   [Synset('character.n.09')],\n",
       "   [Synset('cheerfulness.n.01')],\n",
       "   [Synset('common_denominator.n.02')],\n",
       "   [Synset('depth.n.06')],\n",
       "   [Synset('eidos.n.01')],\n",
       "   [Synset('ethos.n.01')],\n",
       "   [Synset('human_nature.n.01')],\n",
       "   [Synset('inheritance.n.04')],\n",
       "   [Synset('personality.n.01')],\n",
       "   [Synset('property.n.02')],\n",
       "   [Synset('quality.n.01')],\n",
       "   [Synset('shape.n.02')],\n",
       "   [Synset('space.n.01')],\n",
       "   [Synset('state.n.02')],\n",
       "   [Synset('thing.n.09')],\n",
       "   [Synset('time.n.05')],\n",
       "   [Synset('trait.n.01')],\n",
       "   [Synset('uncheerfulness.n.02')]],\n",
       "  [Synset('communication.n.02'),\n",
       "   [Synset('auditory_communication.n.01')],\n",
       "   [Synset('contagion.n.03')],\n",
       "   [Synset('didacticism.n.01')],\n",
       "   [Synset('display.n.05')],\n",
       "   [Synset('document.n.03')],\n",
       "   [Synset('expressive_style.n.01')],\n",
       "   [Synset('indication.n.01')],\n",
       "   [Synset('language.n.01')],\n",
       "   [Synset('message.n.01')],\n",
       "   [Synset('message.n.02')],\n",
       "   [Synset('paralanguage.n.01')],\n",
       "   [Synset('psychic_communication.n.01')],\n",
       "   [Synset('publication.n.03')],\n",
       "   [Synset('sign.n.02')],\n",
       "   [Synset('signal.n.01')],\n",
       "   [Synset('visual_communication.n.01')],\n",
       "   [Synset('voice.n.02')],\n",
       "   [Synset('voice.n.06')],\n",
       "   [Synset('written_communication.n.01')]],\n",
       "  [Synset('group.n.01'),\n",
       "   [Synset('actinoid.n.01')],\n",
       "   [Synset('arrangement.n.02')],\n",
       "   [Synset('association.n.08')],\n",
       "   [Synset('biological_group.n.01')],\n",
       "   [Synset('circuit.n.05')],\n",
       "   [Synset('citizenry.n.01')],\n",
       "   [Synset('collection.n.01')],\n",
       "   [Synset('community.n.06')],\n",
       "   [Synset('edition.n.02')],\n",
       "   [Synset('electron_shell.n.01')],\n",
       "   [Synset('ethnic_group.n.01')],\n",
       "   [Synset('halogen.n.01')],\n",
       "   [Synset('kingdom.n.06')],\n",
       "   [Synset('multitude.n.03')],\n",
       "   [Synset('people.n.01')],\n",
       "   [Synset('population.n.02')],\n",
       "   [Synset('race.n.03')],\n",
       "   [Synset('rare_earth.n.01')],\n",
       "   [Synset('sainthood.n.01')],\n",
       "   [Synset('series.n.06')],\n",
       "   [Synset('social_group.n.01')],\n",
       "   [Synset('straggle.n.01')],\n",
       "   [Synset('subgroup.n.01')],\n",
       "   [Synset('swarm.n.02')],\n",
       "   [Synset('system.n.02')],\n",
       "   [Synset('varna.n.02')],\n",
       "   [Synset('world.n.08')]],\n",
       "  [Synset('measure.n.02'),\n",
       "   [Synset('cordage.n.01')],\n",
       "   [Synset('definite_quantity.n.01')],\n",
       "   [Synset('fundamental_quantity.n.01')],\n",
       "   [Synset('indefinite_quantity.n.01')],\n",
       "   [Synset('magnetization.n.01')],\n",
       "   [Synset('octane_number.n.01')],\n",
       "   [Synset('playing_period.n.01')],\n",
       "   [Synset('point.n.06')],\n",
       "   [Synset('probability.n.01')],\n",
       "   [Synset('proof.n.03')],\n",
       "   [Synset('quantum.n.02')],\n",
       "   [Synset('radical.n.04')],\n",
       "   [Synset('relative_quantity.n.01')],\n",
       "   [Synset('system_of_measurement.n.01')],\n",
       "   [Synset('time_interval.n.01')],\n",
       "   [Synset('time_unit.n.01')],\n",
       "   [Synset('value.n.03')],\n",
       "   [Synset('volume.n.01')],\n",
       "   [Synset('volume.n.05')]],\n",
       "  [Synset('otherworld.n.01')],\n",
       "  [Synset('psychological_feature.n.01'),\n",
       "   [Synset('cognition.n.01')],\n",
       "   [Synset('event.n.01')],\n",
       "   [Synset('motivation.n.01')]],\n",
       "  [Synset('relation.n.01'),\n",
       "   [Synset('affinity.n.04')],\n",
       "   [Synset('association.n.06')],\n",
       "   [Synset('business_relation.n.01')],\n",
       "   [Synset('causality.n.01')],\n",
       "   [Synset('change.n.02')],\n",
       "   [Synset('comparison.n.02')],\n",
       "   [Synset('connection.n.01')],\n",
       "   [Synset('control.n.02')],\n",
       "   [Synset('foundation.n.01')],\n",
       "   [Synset('function.n.04')],\n",
       "   [Synset('interrelation.n.01')],\n",
       "   [Synset('kinship.n.02')],\n",
       "   [Synset('linguistic_relation.n.01')],\n",
       "   [Synset('logical_relation.n.01')],\n",
       "   [Synset('magnitude_relation.n.01')],\n",
       "   [Synset('mathematical_relation.n.01')],\n",
       "   [Synset('opposition.n.02')],\n",
       "   [Synset('ownership.n.01')],\n",
       "   [Synset('part.n.01')],\n",
       "   [Synset('position.n.07')],\n",
       "   [Synset('possession.n.02')],\n",
       "   [Synset('reciprocality.n.01')],\n",
       "   [Synset('relationship.n.01')],\n",
       "   [Synset('social_relation.n.01')],\n",
       "   [Synset('temporal_relation.n.01')],\n",
       "   [Synset('unconnectedness.n.01')]],\n",
       "  [Synset('set.n.02'),\n",
       "   [Synset('diagonal.n.04')],\n",
       "   [Synset('domain.n.03')],\n",
       "   [Synset('field.n.10')],\n",
       "   [Synset('group.n.03')],\n",
       "   [Synset('image.n.07')],\n",
       "   [Synset('intersection.n.03')],\n",
       "   [Synset('interval.n.02')],\n",
       "   [Synset('locus.n.03')],\n",
       "   [Synset('mandelbrot_set.n.01')],\n",
       "   [Synset('mathematical_space.n.01')],\n",
       "   [Synset('null_set.n.01')],\n",
       "   [Synset('solution.n.04')],\n",
       "   [Synset('subset.n.01')],\n",
       "   [Synset('universal_set.n.01')]]],\n",
       " [Synset('physical_entity.n.01'),\n",
       "  [Synset('causal_agent.n.01'),\n",
       "   [Synset('agent.n.01')],\n",
       "   [Synset('agent.n.03')],\n",
       "   [Synset('catalyst.n.02')],\n",
       "   [Synset('cause_of_death.n.01')],\n",
       "   [Synset('danger.n.03')],\n",
       "   [Synset('destiny.n.02')],\n",
       "   [Synset('deus_ex_machina.n.01')],\n",
       "   [Synset('engine.n.02')],\n",
       "   [Synset('first_cause.n.01')],\n",
       "   [Synset('nature.n.02')],\n",
       "   [Synset('operator.n.02')],\n",
       "   [Synset('person.n.01')],\n",
       "   [Synset('power.n.05')],\n",
       "   [Synset('supernatural.n.01')],\n",
       "   [Synset('theurgy.n.01')],\n",
       "   [Synset('vital_principle.n.01')]],\n",
       "  [Synset('matter.n.03'),\n",
       "   [Synset('antimatter.n.01')],\n",
       "   [Synset('dark_matter.n.01')],\n",
       "   [Synset('emanation.n.01')],\n",
       "   [Synset('fluid.n.02')],\n",
       "   [Synset('glop.n.01')],\n",
       "   [Synset('residue.n.01')],\n",
       "   [Synset('sediment.n.01')],\n",
       "   [Synset('sludge.n.02')],\n",
       "   [Synset('solid.n.01')],\n",
       "   [Synset('solute.n.01')],\n",
       "   [Synset('substance.n.01')],\n",
       "   [Synset('substance.n.07')],\n",
       "   [Synset('system.n.03')],\n",
       "   [Synset('vegetable_matter.n.01')],\n",
       "   [Synset('ylem.n.01')]],\n",
       "  [Synset('object.n.01'),\n",
       "   [Synset('catch.n.04')],\n",
       "   [Synset('charm.n.03')],\n",
       "   [Synset('commemorative.n.01')],\n",
       "   [Synset('curio.n.01')],\n",
       "   [Synset('discard.n.01')],\n",
       "   [Synset('draw.n.04')],\n",
       "   [Synset('film.n.04')],\n",
       "   [Synset('finding.n.03')],\n",
       "   [Synset('floater.n.07')],\n",
       "   [Synset('fomite.n.01')],\n",
       "   [Synset('geological_formation.n.01')],\n",
       "   [Synset('growth.n.07')],\n",
       "   [Synset('hail.n.02')],\n",
       "   [Synset('head.n.17')],\n",
       "   [Synset('hoodoo.n.04')],\n",
       "   [Synset('ice.n.02')],\n",
       "   [Synset('je_ne_sais_quoi.n.01')],\n",
       "   [Synset('keepsake.n.01')],\n",
       "   [Synset('land.n.02')],\n",
       "   [Synset('land.n.04')],\n",
       "   [Synset('location.n.01')],\n",
       "   [Synset('makeweight.n.01')],\n",
       "   [Synset('moon.n.02')],\n",
       "   [Synset('neighbor.n.02')],\n",
       "   [Synset('paring.n.02')],\n",
       "   [Synset('part.n.02')],\n",
       "   [Synset('property.n.05')],\n",
       "   [Synset('remains.n.01')],\n",
       "   [Synset('ribbon.n.01')],\n",
       "   [Synset('shiner.n.02')],\n",
       "   [Synset('snake.n.05')],\n",
       "   [Synset('stuff.n.02')],\n",
       "   [Synset('triviality.n.03')],\n",
       "   [Synset('vagabond.n.01')],\n",
       "   [Synset('wall.n.02')],\n",
       "   [Synset('web.n.01')],\n",
       "   [Synset('whole.n.02')]],\n",
       "  [Synset('process.n.06'),\n",
       "   [Synset('chelation.n.01')],\n",
       "   [Synset('dealignment.n.01')],\n",
       "   [Synset('decrease.n.02')],\n",
       "   [Synset('degeneration.n.01')],\n",
       "   [Synset('development.n.02')],\n",
       "   [Synset('economic_process.n.01')],\n",
       "   [Synset('encapsulation.n.02')],\n",
       "   [Synset('execution.n.03')],\n",
       "   [Synset('human_process.n.01')],\n",
       "   [Synset('increase.n.03')],\n",
       "   [Synset('industrial_process.n.01')],\n",
       "   [Synset('irreversible_process.n.01')],\n",
       "   [Synset('iteration.n.01')],\n",
       "   [Synset('iteration.n.02')],\n",
       "   [Synset('natural_process.n.01')],\n",
       "   [Synset('operation.n.08')],\n",
       "   [Synset('organic_process.n.01')],\n",
       "   [Synset('phenomenon.n.01')],\n",
       "   [Synset('photography.n.02')],\n",
       "   [Synset('processing.n.01')],\n",
       "   [Synset('reversible_process.n.01')],\n",
       "   [Synset('sensitization.n.02')],\n",
       "   [Synset('shaping.n.01')],\n",
       "   [Synset('variation.n.07')]],\n",
       "  [Synset('substance.n.04')],\n",
       "  [Synset('thing.n.12'),\n",
       "   [Synset('body_of_water.n.01')],\n",
       "   [Synset('inessential.n.01')],\n",
       "   [Synset('necessity.n.02')],\n",
       "   [Synset('part.n.03')],\n",
       "   [Synset('reservoir.n.04')],\n",
       "   [Synset('subject.n.02')],\n",
       "   [Synset('unit.n.05')],\n",
       "   [Synset('variable.n.01')]]],\n",
       " [Synset('thing.n.08'),\n",
       "  [Synset('change.n.06')],\n",
       "  [Synset('freshener.n.01')],\n",
       "  [Synset('horror.n.02')],\n",
       "  [Synset('jimdandy.n.02')],\n",
       "  [Synset('pacifier.n.02')],\n",
       "  [Synset('security_blanket.n.01')],\n",
       "  [Synset('stinker.n.02')],\n",
       "  [Synset('whacker.n.01')]]]"
      ]
     },
     "execution_count": 11,
     "metadata": {},
     "output_type": "execute_result"
    }
   ],
   "source": [
    "# Is there a single root noun, that is a hypernym for everything else?\n",
    "print(wn.synset(\"dog.n.01\").root_hypernyms())\n",
    "assert wn.synset(\"entity.n.01\").hypernyms() == []\n",
    "wn.synset(\"entity.n.01\").tree(Synset.hyponyms, depth=3)"
   ]
  },
  {
   "cell_type": "markdown",
   "id": "6d9218d7-9bb8-4d5a-a057-1ebe1cc86ec3",
   "metadata": {},
   "source": [
    "## Checking if synsets `s` and `t` are related"
   ]
  },
  {
   "cell_type": "code",
   "execution_count": 12,
   "id": "bf273cd4-c3a6-48bd-bc89-0ba2426fd7cc",
   "metadata": {},
   "outputs": [],
   "source": [
    "car = wn.synset('car.n.01')\n",
    "veh = wn.synset('vehicle.n.01')\n",
    "\n",
    "assert veh not in car.hypernyms()\n",
    "assert s not in veh.hyponyms()\n",
    "assert car not in veh.hyponyms()\n",
    "assert veh not in car.hyponyms()"
   ]
  },
  {
   "cell_type": "code",
   "execution_count": 13,
   "id": "97b4d6ba-c5d1-4685-8171-dd619597cbf7",
   "metadata": {},
   "outputs": [],
   "source": [
    "assert veh in car.lowest_common_hypernyms(veh)"
   ]
  },
  {
   "cell_type": "code",
   "execution_count": 14,
   "id": "9376814a-ded0-44ee-b0b0-dd6e8f78517f",
   "metadata": {},
   "outputs": [
    {
     "data": {
      "text/plain": [
       "[Synset('vehicle.n.01')]"
      ]
     },
     "execution_count": 14,
     "metadata": {},
     "output_type": "execute_result"
    }
   ],
   "source": [
    "veh.lowest_common_hypernyms(car)"
   ]
  },
  {
   "cell_type": "code",
   "execution_count": 15,
   "id": "3a6e7660-bbe7-4699-bb76-805e1a1d8a08",
   "metadata": {
    "scrolled": true
   },
   "outputs": [
    {
     "data": {
      "text/plain": [
       "[[Synset('entity.n.01'),\n",
       "  Synset('physical_entity.n.01'),\n",
       "  Synset('object.n.01'),\n",
       "  Synset('whole.n.02'),\n",
       "  Synset('artifact.n.01'),\n",
       "  Synset('instrumentality.n.03'),\n",
       "  Synset('container.n.01'),\n",
       "  Synset('wheeled_vehicle.n.01'),\n",
       "  Synset('self-propelled_vehicle.n.01'),\n",
       "  Synset('motor_vehicle.n.01'),\n",
       "  Synset('car.n.01')],\n",
       " [Synset('entity.n.01'),\n",
       "  Synset('physical_entity.n.01'),\n",
       "  Synset('object.n.01'),\n",
       "  Synset('whole.n.02'),\n",
       "  Synset('artifact.n.01'),\n",
       "  Synset('instrumentality.n.03'),\n",
       "  Synset('conveyance.n.03'),\n",
       "  Synset('vehicle.n.01'),\n",
       "  Synset('wheeled_vehicle.n.01'),\n",
       "  Synset('self-propelled_vehicle.n.01'),\n",
       "  Synset('motor_vehicle.n.01'),\n",
       "  Synset('car.n.01')]]"
      ]
     },
     "execution_count": 15,
     "metadata": {},
     "output_type": "execute_result"
    }
   ],
   "source": [
    "car.hypernym_paths()"
   ]
  },
  {
   "cell_type": "code",
   "execution_count": 16,
   "id": "7ec9fd72-4bc9-4292-bd71-3958135e479d",
   "metadata": {
    "scrolled": true
   },
   "outputs": [
    {
     "data": {
      "text/plain": [
       "[Synset('carnivore.n.01')]"
      ]
     },
     "execution_count": 16,
     "metadata": {},
     "output_type": "execute_result"
    }
   ],
   "source": [
    "wn.synset(\"dog.n.01\").lowest_common_hypernyms(wn.synset(\"cat.n.01\"))"
   ]
  },
  {
   "cell_type": "code",
   "execution_count": 17,
   "id": "817d9aa0-0931-4b03-8845-dd1cff418cce",
   "metadata": {},
   "outputs": [
    {
     "data": {
      "text/plain": [
       "[Synset('motor_vehicle.n.01')]"
      ]
     },
     "execution_count": 17,
     "metadata": {},
     "output_type": "execute_result"
    }
   ],
   "source": [
    "assert car in wn.synset('motor_vehicle.n.01').hyponyms()\n",
    "wn.synset('motor_vehicle.n.01').lowest_common_hypernyms(car)"
   ]
  },
  {
   "cell_type": "code",
   "execution_count": 18,
   "id": "fbebd24d-fd4c-435b-82d0-8d80fa23eebb",
   "metadata": {},
   "outputs": [],
   "source": [
    "def are_related(s: Synset, t: Synset) -> bool:\n",
    "    lch = s.lowest_common_hypernyms(t)\n",
    "    return s in lch or t in lch"
   ]
  },
  {
   "cell_type": "code",
   "execution_count": 19,
   "id": "64f5d65a-ebe8-4a42-9ec1-198487ad2c4a",
   "metadata": {},
   "outputs": [],
   "source": [
    "def check_if_everything_is_an_entity():\n",
    "    for s in wn.all_eng_synsets(wn.NOUN):\n",
    "        assert wn.synset('entity.n.01') in s.root_hypernyms()\n",
    "\n",
    "check_if_everything_is_an_entity()\n",
    "# Since everything is an entity, unrelated words are just coming from\n",
    "# different paths in the undirected acyclic graph "
   ]
  },
  {
   "cell_type": "markdown",
   "id": "279a51fa-4d45-4e8c-bd2a-4c03878e23b1",
   "metadata": {},
   "source": [
    "## Creating a flat dataset of hypernyms of depth 1"
   ]
  },
  {
   "cell_type": "code",
   "execution_count": 20,
   "id": "c1c58b24-928b-4db7-bc2a-035c58486795",
   "metadata": {},
   "outputs": [
    {
     "data": {
      "text/plain": [
       "75850"
      ]
     },
     "execution_count": 20,
     "metadata": {},
     "output_type": "execute_result"
    }
   ],
   "source": [
    "hyper_hypo_pairs = []\n",
    "\n",
    "def to_str(s: Synset) -> str:\n",
    "    return str(s.lemmas()[0].name())\n",
    "\n",
    "for hyper in wn.all_eng_synsets(wn.NOUN):\n",
    "    for hypo in hyper.hyponyms():\n",
    "        pair = (to_str(hyper), to_str(hypo))\n",
    "        hyper_hypo_pairs.append(pair)\n",
    "\n",
    "len(hyper_hypo_pairs)"
   ]
  },
  {
   "cell_type": "code",
   "execution_count": 21,
   "id": "e79823f2-65d7-4b25-85c5-83412f02bfb8",
   "metadata": {},
   "outputs": [
    {
     "data": {
      "text/plain": [
       "[('bird_genus', 'Apus'),\n",
       " ('wildflower', 'shrubby_penstemon'),\n",
       " ('conifer', 'keteleeria'),\n",
       " ('syndrome', 'fetal_alcohol_syndrome'),\n",
       " ('energy', 'juice'),\n",
       " ('additive', 'adjuvant'),\n",
       " ('sympathizer', 'fellow_traveler'),\n",
       " ('linguistics', 'historical_linguistics'),\n",
       " ('free_phagocyte', 'leukocyte'),\n",
       " ('woolly_bear', 'woolly_bear_moth')]"
      ]
     },
     "execution_count": 21,
     "metadata": {},
     "output_type": "execute_result"
    }
   ],
   "source": [
    "random.sample(hyper_hypo_pairs, k=10)"
   ]
  },
  {
   "cell_type": "markdown",
   "id": "bec034c3-e1ce-4ea4-95f4-590baa690686",
   "metadata": {},
   "source": [
    "### Creating unrelated word pairs"
   ]
  },
  {
   "cell_type": "code",
   "execution_count": 22,
   "id": "fc641d92-5856-4297-94d7-940ed57fc6f5",
   "metadata": {},
   "outputs": [],
   "source": [
    "# # Naive N^2 implementation, too slow, we don't need 80k^2 pairs\n",
    "# unrelated_pairs = []\n",
    "# for s in wn.all_eng_synsets(wn.NOUN):\n",
    "#     for t in wn.all_eng_synsets(wn.NOUN):\n",
    "#         if not are_related(s, t):\n",
    "#             unrelated_pairs.append((s, t))\n",
    "#\n",
    "# len(unrelated_pairs)"
   ]
  },
  {
   "cell_type": "code",
   "execution_count": 23,
   "id": "d1f8bc45-7589-4325-9960-3f80b6aa00df",
   "metadata": {},
   "outputs": [
    {
     "name": "stdout",
     "output_type": "stream",
     "text": [
      "CPU times: user 2 µs, sys: 0 ns, total: 2 µs\n",
      "Wall time: 4.05 µs\n",
      "(Synset('solidity.n.03'), Synset('reserve_account.n.01'))\n"
     ]
    },
    {
     "data": {
      "text/plain": [
       "[(Synset('parts_catalog.n.01'), Synset('crabgrass.n.01')),\n",
       " (Synset('latin_american.n.01'), Synset('dhu'l-qa'dah.n.01')),\n",
       " (Synset('zola.n.01'), Synset('crunch.n.02')),\n",
       " (Synset('short_shrift.n.01'), Synset('discomfiture.n.01')),\n",
       " (Synset('nissen_hut.n.01'), Synset('butt.n.01')),\n",
       " (Synset('slam.n.02'), Synset('trademark.n.02')),\n",
       " (Synset('compartment_pressure.n.01'), Synset('production.n.08')),\n",
       " (Synset('whiteface.n.02'), Synset('carving_knife.n.01')),\n",
       " (Synset('california_newt.n.01'), Synset('devonian.n.01')),\n",
       " (Synset('aunt.n.01'), Synset('algeripithecus.n.01')),\n",
       " (Synset('plate.n.10'), Synset('sotho.n.01')),\n",
       " (Synset('bone_china.n.01'), Synset('force.n.02')),\n",
       " (Synset('24/7.n.01'), Synset('interior_live_oak.n.01')),\n",
       " (Synset('aversion.n.02'),\n",
       "  Synset('american_standard_code_for_information_interchange.n.01')),\n",
       " (Synset('skep.n.01'), Synset('swine.n.01')),\n",
       " (Synset('escape.n.07'), Synset('idolizer.n.01')),\n",
       " (Synset('flat.n.05'), Synset('boletus_zelleri.n.01')),\n",
       " (Synset('bombing_run.n.01'), Synset('dithyramb.n.02')),\n",
       " (Synset('coral_tree.n.01'), Synset('betterment.n.02')),\n",
       " (Synset('infidelity.n.01'), Synset('wedgwood.n.02'))]"
      ]
     },
     "execution_count": 23,
     "metadata": {},
     "output_type": "execute_result"
    }
   ],
   "source": [
    "# Smarter: to avoid unwanted patterns (e.g. repetition) and control the quantity, let's draw random pairs\n",
    "%time\n",
    "\n",
    "def generate_unrelated_pairs(how_many_pairs: int = 50000, rng_seed: int = 42) -> list[tuple[Synset, Synset]]:\n",
    "    unrelated_pairs = []\n",
    "    all_synsets = list(wn.all_eng_synsets(wn.NOUN))\n",
    "    rng = random.Random(rng_seed)\n",
    "    while len(unrelated_pairs) < how_many_pairs:\n",
    "        s, t = rng.sample(all_synsets, k=2)\n",
    "        if not are_related(s, t):\n",
    "            unrelated_pairs.append((s, t))\n",
    "    return unrelated_pairs\n",
    "\n",
    "unrelated_pairs = generate_unrelated_pairs(50000)\n",
    "print(unrelated_pairs[10])\n",
    "random.sample(unrelated_pairs, k=20)"
   ]
  }
 ],
 "metadata": {
  "kernelspec": {
   "display_name": "Python 3 (ipykernel)",
   "language": "python",
   "name": "python3"
  },
  "language_info": {
   "codemirror_mode": {
    "name": "ipython",
    "version": 3
   },
   "file_extension": ".py",
   "mimetype": "text/x-python",
   "name": "python",
   "nbconvert_exporter": "python",
   "pygments_lexer": "ipython3",
   "version": "3.11.6"
  }
 },
 "nbformat": 4,
 "nbformat_minor": 5
}
