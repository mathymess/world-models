{
 "cells": [
  {
   "cell_type": "code",
   "execution_count": 28,
   "id": "cd22a3a5-9e14-4cb7-a04e-7e2d29d5c85d",
   "metadata": {},
   "outputs": [],
   "source": [
    "from save_activations import load_activation_probing_dataset, load_activation_probing_dataset_args\n",
    "from feature_datasets import common\n",
    "from probes.evaluation import *"
   ]
  },
  {
   "cell_type": "code",
   "execution_count": 29,
   "id": "baed8bd4-18ad-49ec-b42d-7e994775cc20",
   "metadata": {},
   "outputs": [],
   "source": [
    "def get_target_values(entity_df, feature_name):\n",
    "    if feature_name == 'coords':\n",
    "        target = entity_df[['longitude', 'latitude']].values\n",
    "\n",
    "    elif feature_name.endswith('date') or feature_name.endswith('year'):\n",
    "        if feature_name == 'death_year':\n",
    "            target = entity_df[feature_name].values\n",
    "        else:\n",
    "            NS_PER_YEAR = 1e9 * 60 * 60 * 24 * 365.25\n",
    "            target = pd.to_datetime(entity_df[feature_name]).values\n",
    "            target = target.astype(np.int64) / NS_PER_YEAR\n",
    "    else:\n",
    "        raise ValueError(f'Unrecognized feature name: {feature_name}')\n",
    "    return target"
   ]
  },
  {
   "cell_type": "code",
   "execution_count": 30,
   "id": "a2be0528-f8b6-4772-813f-b6761b593eba",
   "metadata": {},
   "outputs": [],
   "source": [
    "import torch\n",
    "import pandas as pd\n",
    "from sklearn.linear_model import Ridge, RidgeCV\n",
    "import matplotlib.pyplot as plt\n",
    "import tqdm\n",
    "from typing import Any"
   ]
  },
  {
   "cell_type": "code",
   "execution_count": 31,
   "id": "7b33c20c-75fb-4d7a-bf00-f24033ab0add",
   "metadata": {},
   "outputs": [],
   "source": [
    "LLAMA = \"Llama-2-13b-hf\"\n",
    "NUM_LAYERS = 40"
   ]
  },
  {
   "cell_type": "code",
   "execution_count": 34,
   "id": "5cdb22e1-87b7-421f-b051-97d6cc3a729a",
   "metadata": {},
   "outputs": [],
   "source": [
    "def run_probe(layer_ix: int, entity_type: str, feature_name: str,\n",
    "              prompt_name: str = \"empty\", model: str = LLAMA, alpha: float = None) -> dict:\n",
    "    activations = load_activation_probing_dataset(model=model, entity_type=entity_type,\n",
    "                                                  prompt_name=prompt_name, layer_ix=layer_ix)\n",
    "    activations = activations.dequantize()\n",
    "    \n",
    "    entity_df = common.load_entity_data(entity_type)\n",
    "    is_test = entity_df.is_test\n",
    "    \n",
    "    target = get_target_values(entity_df, feature_name)\n",
    "    \n",
    "    train_activations = activations[~is_test]\n",
    "    train_target = target[~is_test]\n",
    "    \n",
    "    test_activations = activations[is_test]\n",
    "    test_target = target[is_test]\n",
    "    \n",
    "    if alpha is None:\n",
    "        alpha = activations.shape[1]\n",
    "    probe = Ridge(alpha=alpha)\n",
    "    \n",
    "    norm_train_target = (train_target - train_target.mean()\n",
    "                         ) / train_target.std()\n",
    "    \n",
    "    probe.fit(train_activations, norm_train_target)\n",
    "    \n",
    "    train_pred = probe.predict(train_activations)\n",
    "    test_pred = probe.predict(test_activations)\n",
    "    \n",
    "    train_pred_unnorm = train_pred * train_target.std() + train_target.mean()\n",
    "    test_pred_unnorm = test_pred * train_target.std() + train_target.mean()\n",
    "    \n",
    "    train_scores = score_time_probe(train_target, train_pred_unnorm)\n",
    "    test_scores = score_time_probe(test_target, test_pred_unnorm)\n",
    "    \n",
    "    scores = {\n",
    "        **{('train', k): v for k, v in train_scores.items()},\n",
    "        **{('test', k): v for k, v in test_scores.items()},\n",
    "    }\n",
    "    \n",
    "    return scores"
   ]
  },
  {
   "cell_type": "code",
   "execution_count": 36,
   "id": "5587cf0b-9576-4eb3-902b-4abf0fc3ce5f",
   "metadata": {},
   "outputs": [],
   "source": [
    "def train_on_all_layers(metric=None, **kwargs) -> Any:\n",
    "    all_scores = []\n",
    "    for layer_ix in tqdm.trange(NUM_LAYERS):\n",
    "        scores = run_probe(layer_ix, **kwargs)\n",
    "        all_scores.append(scores)\n",
    "\n",
    "    if metric is not None:\n",
    "        return [s[metric] for s in all_scores]\n",
    "    return all_scores\n",
    "\n",
    "def plot_scores(all_scores, title, metric=(\"test\", \"r2\")):\n",
    "    plt.plot([s[metric] for s in all_scores])\n",
    "    plt.xlabel(\"layer_ix\")\n",
    "    plt.ylabel(metric)\n",
    "    plt.title(\"probe results\")\n",
    "    plt.grid()"
   ]
  },
  {
   "cell_type": "code",
   "execution_count": null,
   "id": "faf993d6-5b2e-4148-a5cd-9cc3fdcbb180",
   "metadata": {},
   "outputs": [],
   "source": [
    "scores_us = train_on_all_layers(entity_type=\"us_place\", feature_name=\"coords\")\n",
    "plot_scores(scores_us, title=\"us place\")"
   ]
  },
  {
   "cell_type": "code",
   "execution_count": null,
   "id": "38db9364-8b26-4f5c-a441-067d416a6411",
   "metadata": {},
   "outputs": [],
   "source": [
    "scores_art = train_on_all_layers(entity_type=\"art\", feature_name=\"release_date\")\n",
    "plot_scores(scores_art, title=\"art\")"
   ]
  },
  {
   "cell_type": "code",
   "execution_count": null,
   "id": "3bf0d5e9-614e-4e0f-8cd2-aa8875ca01b2",
   "metadata": {},
   "outputs": [],
   "source": [
    "scores_headline = train_on_all_layers(entity_type=\"headline\", feature_name=\"pub_date\")\n",
    "plot_scores(scores_headline, title=\"headline\")"
   ]
  },
  {
   "cell_type": "code",
   "execution_count": null,
   "id": "37889764-c10e-438a-91fc-8240c595a8f0",
   "metadata": {},
   "outputs": [],
   "source": [
    "scores_histor = train_on_all_layers(entity_type=\"historical_figure\", feature_name=\"death_year\")\n",
    "plot_scores(scores_histor, title=\"historical figure\")"
   ]
  },
  {
   "cell_type": "code",
   "execution_count": null,
   "id": "9f5604e2-dd59-4731-9668-cf181721ff69",
   "metadata": {},
   "outputs": [],
   "source": [
    "scores_nyc = train_on_all_layers(entity_type=\"nyc_place\", feature_name=\"coords\")\n",
    "plot_scores(scores_nyc, title=\"NYC place\")"
   ]
  },
  {
   "cell_type": "code",
   "execution_count": null,
   "id": "c7de14e6-9c00-448a-97bc-eb89012dde19",
   "metadata": {},
   "outputs": [],
   "source": [
    "scores_world = train_on_all_layers(entity_type=\"world_place\", feature_name=\"coords\")\n",
    "plot_scores(scores_world, title=\"world place\")"
   ]
  }
 ],
 "metadata": {
  "kernelspec": {
   "display_name": "Python 3 (ipykernel)",
   "language": "python",
   "name": "python3"
  },
  "language_info": {
   "codemirror_mode": {
    "name": "ipython",
    "version": 3
   },
   "file_extension": ".py",
   "mimetype": "text/x-python",
   "name": "python",
   "nbconvert_exporter": "python",
   "pygments_lexer": "ipython3",
   "version": "3.11.6"
  }
 },
 "nbformat": 4,
 "nbformat_minor": 5
}
