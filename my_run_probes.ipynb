{
 "cells": [
  {
   "cell_type": "code",
   "execution_count": 1,
   "id": "cd22a3a5-9e14-4cb7-a04e-7e2d29d5c85d",
   "metadata": {},
   "outputs": [
    {
     "name": "stderr",
     "output_type": "stream",
     "text": [
      "/home/nick/desk/ustyuzhanin/llm/world-models/.venv/lib/python3.11/site-packages/torch/cuda/__init__.py:611: UserWarning: Can't initialize NVML\n",
      "  warnings.warn(\"Can't initialize NVML\")\n"
     ]
    }
   ],
   "source": [
    "from save_activations import load_activation_probing_dataset, load_activation_probing_dataset_args\n",
    "from feature_datasets import common\n",
    "from probes.evaluation import *"
   ]
  },
  {
   "cell_type": "code",
   "execution_count": 2,
   "id": "baed8bd4-18ad-49ec-b42d-7e994775cc20",
   "metadata": {},
   "outputs": [],
   "source": [
    "def get_target_values(entity_df, feature_name):\n",
    "    if feature_name == 'coords':\n",
    "        target = entity_df[['longitude', 'latitude']].values\n",
    "\n",
    "    elif feature_name.endswith('date') or feature_name.endswith('year'):\n",
    "        if feature_name == 'death_year':\n",
    "            target = entity_df[feature_name].values\n",
    "        else:\n",
    "            NS_PER_YEAR = 1e9 * 60 * 60 * 24 * 365.25\n",
    "            target = pd.to_datetime(entity_df[feature_name]).values\n",
    "            target = target.astype(np.int64) / NS_PER_YEAR\n",
    "    else:\n",
    "        raise ValueError(f'Unrecognized feature name: {feature_name}')\n",
    "    return target"
   ]
  },
  {
   "cell_type": "code",
   "execution_count": 3,
   "id": "a2be0528-f8b6-4772-813f-b6761b593eba",
   "metadata": {},
   "outputs": [],
   "source": [
    "import torch\n",
    "import pandas as pd\n",
    "from sklearn.linear_model import Ridge, RidgeCV\n",
    "import matplotlib.pyplot as plt\n",
    "import tqdm"
   ]
  },
  {
   "cell_type": "code",
   "execution_count": 23,
   "id": "7b33c20c-75fb-4d7a-bf00-f24033ab0add",
   "metadata": {},
   "outputs": [],
   "source": [
    "model = \"Llama-2-13b-hf\"\n",
    "feature_name = \"release_date\"\n",
    "entity_type = \"art\"\n",
    "prompt_name = \"empty\"\n",
    "#NUM_LAYERS = 1 # 40"
   ]
  },
  {
   "cell_type": "code",
   "execution_count": 24,
   "id": "50199df1-353b-4770-ba18-3952cb4f3fd3",
   "metadata": {},
   "outputs": [],
   "source": [
    "# def run_probe(layer_ix: int, model: str = \"Llama-2-13b-hf\", entity_type: str = \"art\", prompt_name: str = \"empty\"):\n",
    "activations = load_activation_probing_dataset(model=model, entity_type=entity_type, prompt_name=prompt_name, layer_ix=39)\n",
    "activations = activations.dequantize()\n",
    "\n",
    "entity_df = common.load_entity_data(entity_type)\n",
    "is_test = entity_df.is_test\n",
    "\n",
    "target = get_target_values(entity_df, feature_name)\n",
    "\n",
    "train_activations = activations[~is_test]\n",
    "train_target = target[~is_test]\n",
    "\n",
    "test_activations = activations[is_test]\n",
    "test_target = target[is_test]"
   ]
  },
  {
   "cell_type": "code",
   "execution_count": 25,
   "id": "89c116a0-2858-4ee1-a196-a04eebcbbc23",
   "metadata": {},
   "outputs": [
    {
     "name": "stdout",
     "output_type": "stream",
     "text": [
      "activations.shape=torch.Size([31321, 5120])\n",
      "target.shape=(31321,)\n",
      "is_test.shape=(31321,)\n",
      "is_test.sum()=6437\n"
     ]
    },
    {
     "data": {
      "text/plain": [
       "0.19997868883028316"
      ]
     },
     "execution_count": 25,
     "metadata": {},
     "output_type": "execute_result"
    }
   ],
   "source": [
    "print(f\"activations.shape={activations.shape}\")\n",
    "print(f\"target.shape={target.shape}\")\n",
    "print(f\"is_test.shape={is_test.shape}\")\n",
    "print(f\"is_test.sum()={is_test.sum()}\")\n",
    "7507 / 37539  # So, 1 to 4 test/train size ratio, test size is 20%."
   ]
  },
  {
   "cell_type": "code",
   "execution_count": 26,
   "id": "5cdb22e1-87b7-421f-b051-97d6cc3a729a",
   "metadata": {},
   "outputs": [],
   "source": [
    "probe = Ridge(alpha=activations.shape[1])\n",
    "\n",
    "norm_train_target = (train_target - train_target.mean()\n",
    "                     ) / train_target.std()\n",
    "\n",
    "probe.fit(train_activations, norm_train_target)\n",
    "\n",
    "train_pred = probe.predict(train_activations)\n",
    "test_pred = probe.predict(test_activations)\n",
    "\n",
    "train_pred_unnorm = train_pred * train_target.std() + train_target.mean()\n",
    "test_pred_unnorm = test_pred * train_target.std() + train_target.mean()\n",
    "\n",
    "train_scores = score_time_probe(train_target, train_pred_unnorm)\n",
    "test_scores = score_time_probe(test_target, test_pred_unnorm)\n",
    "\n",
    "scores = {\n",
    "    **{('train', k): v for k, v in train_scores.items()},\n",
    "    **{('test', k): v for k, v in test_scores.items()},\n",
    "}\n",
    "# return scores"
   ]
  },
  {
   "cell_type": "code",
   "execution_count": 27,
   "id": "d8a39083-c49c-4b50-94aa-0f5209bcd203",
   "metadata": {},
   "outputs": [
    {
     "data": {
      "text/plain": [
       "{('train', 'mae'): 5.184383928553714,\n",
       " ('train', 'mse'): 51.85337497570832,\n",
       " ('train', 'rmse'): 7.200928757855359,\n",
       " ('train', 'r2'): 0.8217659551871399,\n",
       " ('train', 'pearson'): 0.9070446659616226,\n",
       " ('train', 'pearson_p'): 0.0,\n",
       " ('train', 'spearman'): 0.8829491602454167,\n",
       " ('train', 'spearman_p'): 0.0,\n",
       " ('train', 'kendall'): 0.7096994067140758,\n",
       " ('train', 'kendall_p'): 0.0,\n",
       " ('test', 'mae'): 5.784401241384082,\n",
       " ('test', 'mse'): 65.47757599937289,\n",
       " ('test', 'rmse'): 8.091821550143878,\n",
       " ('test', 'r2'): 0.7695673688115823,\n",
       " ('test', 'pearson'): 0.8773096401447807,\n",
       " ('test', 'pearson_p'): 0.0,\n",
       " ('test', 'spearman'): 0.8470667349146598,\n",
       " ('test', 'spearman_p'): 0.0,\n",
       " ('test', 'kendall'): 0.6682738474436448,\n",
       " ('test', 'kendall_p'): 0.0}"
      ]
     },
     "execution_count": 27,
     "metadata": {},
     "output_type": "execute_result"
    }
   ],
   "source": [
    "scores"
   ]
  },
  {
   "cell_type": "code",
   "execution_count": 15,
   "id": "5587cf0b-9576-4eb3-902b-4abf0fc3ce5f",
   "metadata": {},
   "outputs": [
    {
     "name": "stderr",
     "output_type": "stream",
     "text": [
      "100%|██████████████████████████████████████| 1/1 [00:08<00:00,  8.08s/it]\n"
     ]
    }
   ],
   "source": [
    "all_scores = []\n",
    "for layer_ix in tqdm.trange(NUM_LAYERS):\n",
    "    scores = run_probe(layer_ix)\n",
    "    all_scores.append(scores)"
   ]
  },
  {
   "cell_type": "code",
   "execution_count": 16,
   "id": "e4b5bd47-c907-4be7-83bd-1a14e7966c9d",
   "metadata": {},
   "outputs": [],
   "source": [
    "test_r2 = [s[\"test\", \"r2\"] for s in all_scores]\n",
    "layers = list(range(NUM_LAYERS))"
   ]
  },
  {
   "cell_type": "code",
   "execution_count": 22,
   "id": "e071609d-9fbb-4710-a237-1227af453678",
   "metadata": {},
   "outputs": [
    {
     "data": {
      "image/png": "[encoded data removed]",
      "text/plain": [
       "<Figure size 640x480 with 1 Axes>"
      ]
     },
     "metadata": {},
     "output_type": "display_data"
    }
   ],
   "source": [
    "plt.scatter(layers, test_r2)\n",
    "plt.xlabel(\"layer_ix\")\n",
    "plt.ylabel(\"test_r2\")\n",
    "plt.title(\"probe results\")\n",
    "plt.grid()"
   ]
  }
 ],
 "metadata": {
  "kernelspec": {
   "display_name": "Python 3 (ipykernel)",
   "language": "python",
   "name": "python3"
  },
  "language_info": {
   "codemirror_mode": {
    "name": "ipython",
    "version": 3
   },
   "file_extension": ".py",
   "mimetype": "text/x-python",
   "name": "python",
   "nbconvert_exporter": "python",
   "pygments_lexer": "ipython3",
   "version": "3.11.6"
  }
 },
 "nbformat": 4,
 "nbformat_minor": 5
}
